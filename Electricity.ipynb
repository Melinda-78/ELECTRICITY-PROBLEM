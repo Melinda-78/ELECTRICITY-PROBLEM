{
  "nbformat": 4,
  "nbformat_minor": 0,
  "metadata": {
    "colab": {
      "provenance": []
    },
    "kernelspec": {
      "name": "python3",
      "display_name": "Python 3"
    },
    "language_info": {
      "name": "python"
    }
  },
  "cells": [
    {
      "cell_type": "markdown",
      "source": [],
      "metadata": {
        "id": "7yyPYdDF-sK0"
      }
    },
    {
      "cell_type": "code",
      "execution_count": 1,
      "metadata": {
        "id": "et-U64NFx8p1"
      },
      "outputs": [],
      "source": [
        "import pandas as pd\n",
        "import numpy as np\n",
        "import seaborn as sns\n",
        "import matplotlib.pyplot as plt"
      ]
    },
    {
      "cell_type": "code",
      "source": [
        "from google.colab import drive\n",
        "\n",
        "drive.mount('/content/drive')\n"
      ],
      "metadata": {
        "colab": {
          "base_uri": "https://localhost:8080/"
        },
        "id": "WgBALBqUKPvE",
        "outputId": "1c07f79a-3dec-4ffc-a529-32df3117e546"
      },
      "execution_count": 2,
      "outputs": [
        {
          "output_type": "stream",
          "name": "stdout",
          "text": [
            "Drive already mounted at /content/drive; to attempt to forcibly remount, call drive.mount(\"/content/drive\", force_remount=True).\n"
          ]
        }
      ]
    },
    {
      "cell_type": "code",
      "source": [
        "#load the dataset\n",
        "df = pd.read_excel('/content/drive/MyDrive/Colab Notebooks/Junior Data Analyst _ Data (1).xlsx')\n",
        "df.head()"
      ],
      "metadata": {
        "id": "yGTY0SoW1TfR",
        "colab": {
          "base_uri": "https://localhost:8080/",
          "height": 206
        },
        "outputId": "2417c689-8fa8-4a58-aab3-350e077e6709"
      },
      "execution_count": 3,
      "outputs": [
        {
          "output_type": "execute_result",
          "data": {
            "text/plain": [
              "   Hour     Date/hour start  Solar electricity generation (kWh)  \\\n",
              "0     0 2020-01-01 00:00:00                                 0.0   \n",
              "1     1 2020-01-01 01:00:00                                 0.0   \n",
              "2     2 2020-01-01 02:00:00                                 0.0   \n",
              "3     3 2020-01-01 03:00:00                                 0.0   \n",
              "4     4 2020-01-01 04:00:00                                 0.0   \n",
              "\n",
              "   Electricity usage (kWh)  \n",
              "0                 1.509849  \n",
              "1                 1.411859  \n",
              "2                 1.023898  \n",
              "3                 0.642000  \n",
              "4                 0.960000  "
            ],
            "text/html": [
              "\n",
              "  <div id=\"df-da6e1d77-13a7-4e34-a2c5-2f0ccaff6d9f\" class=\"colab-df-container\">\n",
              "    <div>\n",
              "<style scoped>\n",
              "    .dataframe tbody tr th:only-of-type {\n",
              "        vertical-align: middle;\n",
              "    }\n",
              "\n",
              "    .dataframe tbody tr th {\n",
              "        vertical-align: top;\n",
              "    }\n",
              "\n",
              "    .dataframe thead th {\n",
              "        text-align: right;\n",
              "    }\n",
              "</style>\n",
              "<table border=\"1\" class=\"dataframe\">\n",
              "  <thead>\n",
              "    <tr style=\"text-align: right;\">\n",
              "      <th></th>\n",
              "      <th>Hour</th>\n",
              "      <th>Date/hour start</th>\n",
              "      <th>Solar electricity generation (kWh)</th>\n",
              "      <th>Electricity usage (kWh)</th>\n",
              "    </tr>\n",
              "  </thead>\n",
              "  <tbody>\n",
              "    <tr>\n",
              "      <th>0</th>\n",
              "      <td>0</td>\n",
              "      <td>2020-01-01 00:00:00</td>\n",
              "      <td>0.0</td>\n",
              "      <td>1.509849</td>\n",
              "    </tr>\n",
              "    <tr>\n",
              "      <th>1</th>\n",
              "      <td>1</td>\n",
              "      <td>2020-01-01 01:00:00</td>\n",
              "      <td>0.0</td>\n",
              "      <td>1.411859</td>\n",
              "    </tr>\n",
              "    <tr>\n",
              "      <th>2</th>\n",
              "      <td>2</td>\n",
              "      <td>2020-01-01 02:00:00</td>\n",
              "      <td>0.0</td>\n",
              "      <td>1.023898</td>\n",
              "    </tr>\n",
              "    <tr>\n",
              "      <th>3</th>\n",
              "      <td>3</td>\n",
              "      <td>2020-01-01 03:00:00</td>\n",
              "      <td>0.0</td>\n",
              "      <td>0.642000</td>\n",
              "    </tr>\n",
              "    <tr>\n",
              "      <th>4</th>\n",
              "      <td>4</td>\n",
              "      <td>2020-01-01 04:00:00</td>\n",
              "      <td>0.0</td>\n",
              "      <td>0.960000</td>\n",
              "    </tr>\n",
              "  </tbody>\n",
              "</table>\n",
              "</div>\n",
              "    <div class=\"colab-df-buttons\">\n",
              "\n",
              "  <div class=\"colab-df-container\">\n",
              "    <button class=\"colab-df-convert\" onclick=\"convertToInteractive('df-da6e1d77-13a7-4e34-a2c5-2f0ccaff6d9f')\"\n",
              "            title=\"Convert this dataframe to an interactive table.\"\n",
              "            style=\"display:none;\">\n",
              "\n",
              "  <svg xmlns=\"http://www.w3.org/2000/svg\" height=\"24px\" viewBox=\"0 -960 960 960\">\n",
              "    <path d=\"M120-120v-720h720v720H120Zm60-500h600v-160H180v160Zm220 220h160v-160H400v160Zm0 220h160v-160H400v160ZM180-400h160v-160H180v160Zm440 0h160v-160H620v160ZM180-180h160v-160H180v160Zm440 0h160v-160H620v160Z\"/>\n",
              "  </svg>\n",
              "    </button>\n",
              "\n",
              "  <style>\n",
              "    .colab-df-container {\n",
              "      display:flex;\n",
              "      gap: 12px;\n",
              "    }\n",
              "\n",
              "    .colab-df-convert {\n",
              "      background-color: #E8F0FE;\n",
              "      border: none;\n",
              "      border-radius: 50%;\n",
              "      cursor: pointer;\n",
              "      display: none;\n",
              "      fill: #1967D2;\n",
              "      height: 32px;\n",
              "      padding: 0 0 0 0;\n",
              "      width: 32px;\n",
              "    }\n",
              "\n",
              "    .colab-df-convert:hover {\n",
              "      background-color: #E2EBFA;\n",
              "      box-shadow: 0px 1px 2px rgba(60, 64, 67, 0.3), 0px 1px 3px 1px rgba(60, 64, 67, 0.15);\n",
              "      fill: #174EA6;\n",
              "    }\n",
              "\n",
              "    .colab-df-buttons div {\n",
              "      margin-bottom: 4px;\n",
              "    }\n",
              "\n",
              "    [theme=dark] .colab-df-convert {\n",
              "      background-color: #3B4455;\n",
              "      fill: #D2E3FC;\n",
              "    }\n",
              "\n",
              "    [theme=dark] .colab-df-convert:hover {\n",
              "      background-color: #434B5C;\n",
              "      box-shadow: 0px 1px 3px 1px rgba(0, 0, 0, 0.15);\n",
              "      filter: drop-shadow(0px 1px 2px rgba(0, 0, 0, 0.3));\n",
              "      fill: #FFFFFF;\n",
              "    }\n",
              "  </style>\n",
              "\n",
              "    <script>\n",
              "      const buttonEl =\n",
              "        document.querySelector('#df-da6e1d77-13a7-4e34-a2c5-2f0ccaff6d9f button.colab-df-convert');\n",
              "      buttonEl.style.display =\n",
              "        google.colab.kernel.accessAllowed ? 'block' : 'none';\n",
              "\n",
              "      async function convertToInteractive(key) {\n",
              "        const element = document.querySelector('#df-da6e1d77-13a7-4e34-a2c5-2f0ccaff6d9f');\n",
              "        const dataTable =\n",
              "          await google.colab.kernel.invokeFunction('convertToInteractive',\n",
              "                                                    [key], {});\n",
              "        if (!dataTable) return;\n",
              "\n",
              "        const docLinkHtml = 'Like what you see? Visit the ' +\n",
              "          '<a target=\"_blank\" href=https://colab.research.google.com/notebooks/data_table.ipynb>data table notebook</a>'\n",
              "          + ' to learn more about interactive tables.';\n",
              "        element.innerHTML = '';\n",
              "        dataTable['output_type'] = 'display_data';\n",
              "        await google.colab.output.renderOutput(dataTable, element);\n",
              "        const docLink = document.createElement('div');\n",
              "        docLink.innerHTML = docLinkHtml;\n",
              "        element.appendChild(docLink);\n",
              "      }\n",
              "    </script>\n",
              "  </div>\n",
              "\n",
              "\n",
              "<div id=\"df-b2b29fe5-a571-423d-9064-0a83fc459f8d\">\n",
              "  <button class=\"colab-df-quickchart\" onclick=\"quickchart('df-b2b29fe5-a571-423d-9064-0a83fc459f8d')\"\n",
              "            title=\"Suggest charts\"\n",
              "            style=\"display:none;\">\n",
              "\n",
              "<svg xmlns=\"http://www.w3.org/2000/svg\" height=\"24px\"viewBox=\"0 0 24 24\"\n",
              "     width=\"24px\">\n",
              "    <g>\n",
              "        <path d=\"M19 3H5c-1.1 0-2 .9-2 2v14c0 1.1.9 2 2 2h14c1.1 0 2-.9 2-2V5c0-1.1-.9-2-2-2zM9 17H7v-7h2v7zm4 0h-2V7h2v10zm4 0h-2v-4h2v4z\"/>\n",
              "    </g>\n",
              "</svg>\n",
              "  </button>\n",
              "\n",
              "<style>\n",
              "  .colab-df-quickchart {\n",
              "      --bg-color: #E8F0FE;\n",
              "      --fill-color: #1967D2;\n",
              "      --hover-bg-color: #E2EBFA;\n",
              "      --hover-fill-color: #174EA6;\n",
              "      --disabled-fill-color: #AAA;\n",
              "      --disabled-bg-color: #DDD;\n",
              "  }\n",
              "\n",
              "  [theme=dark] .colab-df-quickchart {\n",
              "      --bg-color: #3B4455;\n",
              "      --fill-color: #D2E3FC;\n",
              "      --hover-bg-color: #434B5C;\n",
              "      --hover-fill-color: #FFFFFF;\n",
              "      --disabled-bg-color: #3B4455;\n",
              "      --disabled-fill-color: #666;\n",
              "  }\n",
              "\n",
              "  .colab-df-quickchart {\n",
              "    background-color: var(--bg-color);\n",
              "    border: none;\n",
              "    border-radius: 50%;\n",
              "    cursor: pointer;\n",
              "    display: none;\n",
              "    fill: var(--fill-color);\n",
              "    height: 32px;\n",
              "    padding: 0;\n",
              "    width: 32px;\n",
              "  }\n",
              "\n",
              "  .colab-df-quickchart:hover {\n",
              "    background-color: var(--hover-bg-color);\n",
              "    box-shadow: 0 1px 2px rgba(60, 64, 67, 0.3), 0 1px 3px 1px rgba(60, 64, 67, 0.15);\n",
              "    fill: var(--button-hover-fill-color);\n",
              "  }\n",
              "\n",
              "  .colab-df-quickchart-complete:disabled,\n",
              "  .colab-df-quickchart-complete:disabled:hover {\n",
              "    background-color: var(--disabled-bg-color);\n",
              "    fill: var(--disabled-fill-color);\n",
              "    box-shadow: none;\n",
              "  }\n",
              "\n",
              "  .colab-df-spinner {\n",
              "    border: 2px solid var(--fill-color);\n",
              "    border-color: transparent;\n",
              "    border-bottom-color: var(--fill-color);\n",
              "    animation:\n",
              "      spin 1s steps(1) infinite;\n",
              "  }\n",
              "\n",
              "  @keyframes spin {\n",
              "    0% {\n",
              "      border-color: transparent;\n",
              "      border-bottom-color: var(--fill-color);\n",
              "      border-left-color: var(--fill-color);\n",
              "    }\n",
              "    20% {\n",
              "      border-color: transparent;\n",
              "      border-left-color: var(--fill-color);\n",
              "      border-top-color: var(--fill-color);\n",
              "    }\n",
              "    30% {\n",
              "      border-color: transparent;\n",
              "      border-left-color: var(--fill-color);\n",
              "      border-top-color: var(--fill-color);\n",
              "      border-right-color: var(--fill-color);\n",
              "    }\n",
              "    40% {\n",
              "      border-color: transparent;\n",
              "      border-right-color: var(--fill-color);\n",
              "      border-top-color: var(--fill-color);\n",
              "    }\n",
              "    60% {\n",
              "      border-color: transparent;\n",
              "      border-right-color: var(--fill-color);\n",
              "    }\n",
              "    80% {\n",
              "      border-color: transparent;\n",
              "      border-right-color: var(--fill-color);\n",
              "      border-bottom-color: var(--fill-color);\n",
              "    }\n",
              "    90% {\n",
              "      border-color: transparent;\n",
              "      border-bottom-color: var(--fill-color);\n",
              "    }\n",
              "  }\n",
              "</style>\n",
              "\n",
              "  <script>\n",
              "    async function quickchart(key) {\n",
              "      const quickchartButtonEl =\n",
              "        document.querySelector('#' + key + ' button');\n",
              "      quickchartButtonEl.disabled = true;  // To prevent multiple clicks.\n",
              "      quickchartButtonEl.classList.add('colab-df-spinner');\n",
              "      try {\n",
              "        const charts = await google.colab.kernel.invokeFunction(\n",
              "            'suggestCharts', [key], {});\n",
              "      } catch (error) {\n",
              "        console.error('Error during call to suggestCharts:', error);\n",
              "      }\n",
              "      quickchartButtonEl.classList.remove('colab-df-spinner');\n",
              "      quickchartButtonEl.classList.add('colab-df-quickchart-complete');\n",
              "    }\n",
              "    (() => {\n",
              "      let quickchartButtonEl =\n",
              "        document.querySelector('#df-b2b29fe5-a571-423d-9064-0a83fc459f8d button');\n",
              "      quickchartButtonEl.style.display =\n",
              "        google.colab.kernel.accessAllowed ? 'block' : 'none';\n",
              "    })();\n",
              "  </script>\n",
              "</div>\n",
              "\n",
              "    </div>\n",
              "  </div>\n"
            ],
            "application/vnd.google.colaboratory.intrinsic+json": {
              "type": "dataframe",
              "variable_name": "df",
              "summary": "{\n  \"name\": \"df\",\n  \"rows\": 8760,\n  \"fields\": [\n    {\n      \"column\": \"Hour\",\n      \"properties\": {\n        \"dtype\": \"number\",\n        \"std\": 6,\n        \"min\": 0,\n        \"max\": 23,\n        \"num_unique_values\": 24,\n        \"samples\": [\n          8,\n          16,\n          0\n        ],\n        \"semantic_type\": \"\",\n        \"description\": \"\"\n      }\n    },\n    {\n      \"column\": \"Date/hour start\",\n      \"properties\": {\n        \"dtype\": \"date\",\n        \"min\": \"2020-01-01 00:00:00\",\n        \"max\": \"2020-12-31 23:00:00\",\n        \"num_unique_values\": 8760,\n        \"samples\": [\n          \"2020-09-10 08:00:00\",\n          \"2020-08-20 12:00:00\",\n          \"2020-09-07 14:00:00\"\n        ],\n        \"semantic_type\": \"\",\n        \"description\": \"\"\n      }\n    },\n    {\n      \"column\": \"Solar electricity generation (kWh)\",\n      \"properties\": {\n        \"dtype\": \"number\",\n        \"std\": 2.0260983113277313,\n        \"min\": 0.0,\n        \"max\": 13.05,\n        \"num_unique_values\": 1774,\n        \"samples\": [\n          0.8999999999999999,\n          4.151999999999999,\n          5.2170000000000005\n        ],\n        \"semantic_type\": \"\",\n        \"description\": \"\"\n      }\n    },\n    {\n      \"column\": \"Electricity usage (kWh)\",\n      \"properties\": {\n        \"dtype\": \"number\",\n        \"std\": 491.4798061379438,\n        \"min\": -12.624,\n        \"max\": 46000.0,\n        \"num_unique_values\": 2761,\n        \"samples\": [\n          0.7619237999999999,\n          1.2358764,\n          0.6666000000000002\n        ],\n        \"semantic_type\": \"\",\n        \"description\": \"\"\n      }\n    }\n  ]\n}"
            }
          },
          "metadata": {},
          "execution_count": 3
        }
      ]
    },
    {
      "cell_type": "code",
      "source": [
        "#Number of rows and columns as well as the datatypes of the data\n",
        "df.info()"
      ],
      "metadata": {
        "colab": {
          "base_uri": "https://localhost:8080/"
        },
        "id": "rqHrSiEv7Jeo",
        "outputId": "b8b1191f-648f-4fbd-b19e-47c2c7f1312a"
      },
      "execution_count": 4,
      "outputs": [
        {
          "output_type": "stream",
          "name": "stdout",
          "text": [
            "<class 'pandas.core.frame.DataFrame'>\n",
            "RangeIndex: 8760 entries, 0 to 8759\n",
            "Data columns (total 4 columns):\n",
            " #   Column                              Non-Null Count  Dtype         \n",
            "---  ------                              --------------  -----         \n",
            " 0   Hour                                8760 non-null   int64         \n",
            " 1   Date/hour start                     8760 non-null   datetime64[ns]\n",
            " 2   Solar electricity generation (kWh)  8760 non-null   float64       \n",
            " 3   Electricity usage (kWh)             8760 non-null   float64       \n",
            "dtypes: datetime64[ns](1), float64(2), int64(1)\n",
            "memory usage: 273.9 KB\n"
          ]
        }
      ]
    },
    {
      "cell_type": "code",
      "source": [
        "# The number of rows and columns\n",
        "print(\"Number of rows:\", df.shape[0])\n",
        "print(\"Number of columns:\", df.shape[1])\n",
        "print(df.head())\n"
      ],
      "metadata": {
        "colab": {
          "base_uri": "https://localhost:8080/"
        },
        "id": "ncXbSVtcXN_u",
        "outputId": "4d3456bd-9344-418b-bd47-a035c9c81151"
      },
      "execution_count": 5,
      "outputs": [
        {
          "output_type": "stream",
          "name": "stdout",
          "text": [
            "Number of rows: 8760\n",
            "Number of columns: 4\n",
            "   Hour     Date/hour start  Solar electricity generation (kWh)  \\\n",
            "0     0 2020-01-01 00:00:00                                 0.0   \n",
            "1     1 2020-01-01 01:00:00                                 0.0   \n",
            "2     2 2020-01-01 02:00:00                                 0.0   \n",
            "3     3 2020-01-01 03:00:00                                 0.0   \n",
            "4     4 2020-01-01 04:00:00                                 0.0   \n",
            "\n",
            "   Electricity usage (kWh)  \n",
            "0                 1.509849  \n",
            "1                 1.411859  \n",
            "2                 1.023898  \n",
            "3                 0.642000  \n",
            "4                 0.960000  \n"
          ]
        }
      ]
    },
    {
      "cell_type": "code",
      "source": [
        "#check for missing values.None of the columns had missing values that we could drop.\n",
        "df.isnull().sum()"
      ],
      "metadata": {
        "colab": {
          "base_uri": "https://localhost:8080/"
        },
        "id": "dyOxVx37_qVz",
        "outputId": "0852f840-08a1-403f-cf9e-31f784513732"
      },
      "execution_count": 6,
      "outputs": [
        {
          "output_type": "execute_result",
          "data": {
            "text/plain": [
              "Hour                                  0\n",
              "Date/hour start                       0\n",
              "Solar electricity generation (kWh)    0\n",
              "Electricity usage (kWh)               0\n",
              "dtype: int64"
            ]
          },
          "metadata": {},
          "execution_count": 6
        }
      ]
    },
    {
      "cell_type": "code",
      "source": [
        "sns.heatmap(df.isnull())"
      ],
      "metadata": {
        "colab": {
          "base_uri": "https://localhost:8080/",
          "height": 674
        },
        "id": "BeRtUO2P9UJX",
        "outputId": "78d5d113-ea7c-4b4a-cc9a-feba40ad4176"
      },
      "execution_count": 7,
      "outputs": [
        {
          "output_type": "execute_result",
          "data": {
            "text/plain": [
              "<Axes: >"
            ]
          },
          "metadata": {},
          "execution_count": 7
        },
        {
          "output_type": "display_data",
          "data": {
            "text/plain": [
              "<Figure size 640x480 with 2 Axes>"
            ],
            "image/png": "[encoded data removed]"
          },
          "metadata": {}
        }
      ]
    },
    {
      "cell_type": "code",
      "source": [
        "#check for any duplicates;because of the nature of the data we are dealing with,we do expect to have duplicates.\n",
        "df.nunique()"
      ],
      "metadata": {
        "colab": {
          "base_uri": "https://localhost:8080/"
        },
        "id": "T5o96bi7_6q-",
        "outputId": "9cf211a0-d6af-4328-f607-d860115c76ea"
      },
      "execution_count": 8,
      "outputs": [
        {
          "output_type": "execute_result",
          "data": {
            "text/plain": [
              "Hour                                    24\n",
              "Date/hour start                       8760\n",
              "Solar electricity generation (kWh)    1774\n",
              "Electricity usage (kWh)               2761\n",
              "dtype: int64"
            ]
          },
          "metadata": {},
          "execution_count": 8
        }
      ]
    },
    {
      "cell_type": "code",
      "source": [
        "# Convert 'Date/hour start' column to datetime\n",
        "df['Date/hour start'] = pd.to_datetime(df['Date/hour start'])\n",
        "\n",
        "# Extract 'Date' and 'Hour' from 'Date/hour start' column\n",
        "df['Date'] = df['Date/hour start'].dt.date\n",
        "df['Hour'] = df['Date/hour start'].dt.hour\n",
        "\n",
        "# Display DataFrame\n",
        "print(df)"
      ],
      "metadata": {
        "colab": {
          "base_uri": "https://localhost:8080/"
        },
        "id": "x9Sea4HMDFtq",
        "outputId": "719401b9-b72a-4ef2-dbe7-cb12cf3ed73c"
      },
      "execution_count": 9,
      "outputs": [
        {
          "output_type": "stream",
          "name": "stdout",
          "text": [
            "      Hour     Date/hour start  Solar electricity generation (kWh)  \\\n",
            "0        0 2020-01-01 00:00:00                               0.000   \n",
            "1        1 2020-01-01 01:00:00                               0.000   \n",
            "2        2 2020-01-01 02:00:00                               0.000   \n",
            "3        3 2020-01-01 03:00:00                               0.000   \n",
            "4        4 2020-01-01 04:00:00                               0.000   \n",
            "...    ...                 ...                                 ...   \n",
            "8755    19 2020-12-31 19:00:00                               0.012   \n",
            "8756    20 2020-12-31 20:00:00                               0.003   \n",
            "8757    21 2020-12-31 21:00:00                               0.000   \n",
            "8758    22 2020-12-31 22:00:00                               0.015   \n",
            "8759    23 2020-12-31 23:00:00                               0.000   \n",
            "\n",
            "      Electricity usage (kWh)        Date  \n",
            "0                    1.509849  2020-01-01  \n",
            "1                    1.411859  2020-01-01  \n",
            "2                    1.023898  2020-01-01  \n",
            "3                    0.642000  2020-01-01  \n",
            "4                    0.960000  2020-01-01  \n",
            "...                       ...         ...  \n",
            "8755                 4.395600  2020-12-31  \n",
            "8756                 4.560600  2020-12-31  \n",
            "8757                 2.022000  2020-12-31  \n",
            "8758                 1.668000  2020-12-31  \n",
            "8759                 0.805919  2020-12-31  \n",
            "\n",
            "[8760 rows x 5 columns]\n"
          ]
        }
      ]
    },
    {
      "cell_type": "code",
      "source": [
        "df.tail()"
      ],
      "metadata": {
        "colab": {
          "base_uri": "https://localhost:8080/",
          "height": 206
        },
        "id": "b5ga0SVZDF46",
        "outputId": "a4c5a554-3bf9-4239-f114-dde76a578d87"
      },
      "execution_count": 10,
      "outputs": [
        {
          "output_type": "execute_result",
          "data": {
            "text/plain": [
              "      Hour     Date/hour start  Solar electricity generation (kWh)  \\\n",
              "8755    19 2020-12-31 19:00:00                               0.012   \n",
              "8756    20 2020-12-31 20:00:00                               0.003   \n",
              "8757    21 2020-12-31 21:00:00                               0.000   \n",
              "8758    22 2020-12-31 22:00:00                               0.015   \n",
              "8759    23 2020-12-31 23:00:00                               0.000   \n",
              "\n",
              "      Electricity usage (kWh)        Date  \n",
              "8755                 4.395600  2020-12-31  \n",
              "8756                 4.560600  2020-12-31  \n",
              "8757                 2.022000  2020-12-31  \n",
              "8758                 1.668000  2020-12-31  \n",
              "8759                 0.805919  2020-12-31  "
            ],
            "text/html": [
              "\n",
              "  <div id=\"df-e923c353-ac48-4b7f-bd40-2453c4b75d7a\" class=\"colab-df-container\">\n",
              "    <div>\n",
              "<style scoped>\n",
              "    .dataframe tbody tr th:only-of-type {\n",
              "        vertical-align: middle;\n",
              "    }\n",
              "\n",
              "    .dataframe tbody tr th {\n",
              "        vertical-align: top;\n",
              "    }\n",
              "\n",
              "    .dataframe thead th {\n",
              "        text-align: right;\n",
              "    }\n",
              "</style>\n",
              "<table border=\"1\" class=\"dataframe\">\n",
              "  <thead>\n",
              "    <tr style=\"text-align: right;\">\n",
              "      <th></th>\n",
              "      <th>Hour</th>\n",
              "      <th>Date/hour start</th>\n",
              "      <th>Solar electricity generation (kWh)</th>\n",
              "      <th>Electricity usage (kWh)</th>\n",
              "      <th>Date</th>\n",
              "    </tr>\n",
              "  </thead>\n",
              "  <tbody>\n",
              "    <tr>\n",
              "      <th>8755</th>\n",
              "      <td>19</td>\n",
              "      <td>2020-12-31 19:00:00</td>\n",
              "      <td>0.012</td>\n",
              "      <td>4.395600</td>\n",
              "      <td>2020-12-31</td>\n",
              "    </tr>\n",
              "    <tr>\n",
              "      <th>8756</th>\n",
              "      <td>20</td>\n",
              "      <td>2020-12-31 20:00:00</td>\n",
              "      <td>0.003</td>\n",
              "      <td>4.560600</td>\n",
              "      <td>2020-12-31</td>\n",
              "    </tr>\n",
              "    <tr>\n",
              "      <th>8757</th>\n",
              "      <td>21</td>\n",
              "      <td>2020-12-31 21:00:00</td>\n",
              "      <td>0.000</td>\n",
              "      <td>2.022000</td>\n",
              "      <td>2020-12-31</td>\n",
              "    </tr>\n",
              "    <tr>\n",
              "      <th>8758</th>\n",
              "      <td>22</td>\n",
              "      <td>2020-12-31 22:00:00</td>\n",
              "      <td>0.015</td>\n",
              "      <td>1.668000</td>\n",
              "      <td>2020-12-31</td>\n",
              "    </tr>\n",
              "    <tr>\n",
              "      <th>8759</th>\n",
              "      <td>23</td>\n",
              "      <td>2020-12-31 23:00:00</td>\n",
              "      <td>0.000</td>\n",
              "      <td>0.805919</td>\n",
              "      <td>2020-12-31</td>\n",
              "    </tr>\n",
              "  </tbody>\n",
              "</table>\n",
              "</div>\n",
              "    <div class=\"colab-df-buttons\">\n",
              "\n",
              "  <div class=\"colab-df-container\">\n",
              "    <button class=\"colab-df-convert\" onclick=\"convertToInteractive('df-e923c353-ac48-4b7f-bd40-2453c4b75d7a')\"\n",
              "            title=\"Convert this dataframe to an interactive table.\"\n",
              "            style=\"display:none;\">\n",
              "\n",
              "  <svg xmlns=\"http://www.w3.org/2000/svg\" height=\"24px\" viewBox=\"0 -960 960 960\">\n",
              "    <path d=\"M120-120v-720h720v720H120Zm60-500h600v-160H180v160Zm220 220h160v-160H400v160Zm0 220h160v-160H400v160ZM180-400h160v-160H180v160Zm440 0h160v-160H620v160ZM180-180h160v-160H180v160Zm440 0h160v-160H620v160Z\"/>\n",
              "  </svg>\n",
              "    </button>\n",
              "\n",
              "  <style>\n",
              "    .colab-df-container {\n",
              "      display:flex;\n",
              "      gap: 12px;\n",
              "    }\n",
              "\n",
              "    .colab-df-convert {\n",
              "      background-color: #E8F0FE;\n",
              "      border: none;\n",
              "      border-radius: 50%;\n",
              "      cursor: pointer;\n",
              "      display: none;\n",
              "      fill: #1967D2;\n",
              "      height: 32px;\n",
              "      padding: 0 0 0 0;\n",
              "      width: 32px;\n",
              "    }\n",
              "\n",
              "    .colab-df-convert:hover {\n",
              "      background-color: #E2EBFA;\n",
              "      box-shadow: 0px 1px 2px rgba(60, 64, 67, 0.3), 0px 1px 3px 1px rgba(60, 64, 67, 0.15);\n",
              "      fill: #174EA6;\n",
              "    }\n",
              "\n",
              "    .colab-df-buttons div {\n",
              "      margin-bottom: 4px;\n",
              "    }\n",
              "\n",
              "    [theme=dark] .colab-df-convert {\n",
              "      background-color: #3B4455;\n",
              "      fill: #D2E3FC;\n",
              "    }\n",
              "\n",
              "    [theme=dark] .colab-df-convert:hover {\n",
              "      background-color: #434B5C;\n",
              "      box-shadow: 0px 1px 3px 1px rgba(0, 0, 0, 0.15);\n",
              "      filter: drop-shadow(0px 1px 2px rgba(0, 0, 0, 0.3));\n",
              "      fill: #FFFFFF;\n",
              "    }\n",
              "  </style>\n",
              "\n",
              "    <script>\n",
              "      const buttonEl =\n",
              "        document.querySelector('#df-e923c353-ac48-4b7f-bd40-2453c4b75d7a button.colab-df-convert');\n",
              "      buttonEl.style.display =\n",
              "        google.colab.kernel.accessAllowed ? 'block' : 'none';\n",
              "\n",
              "      async function convertToInteractive(key) {\n",
              "        const element = document.querySelector('#df-e923c353-ac48-4b7f-bd40-2453c4b75d7a');\n",
              "        const dataTable =\n",
              "          await google.colab.kernel.invokeFunction('convertToInteractive',\n",
              "                                                    [key], {});\n",
              "        if (!dataTable) return;\n",
              "\n",
              "        const docLinkHtml = 'Like what you see? Visit the ' +\n",
              "          '<a target=\"_blank\" href=https://colab.research.google.com/notebooks/data_table.ipynb>data table notebook</a>'\n",
              "          + ' to learn more about interactive tables.';\n",
              "        element.innerHTML = '';\n",
              "        dataTable['output_type'] = 'display_data';\n",
              "        await google.colab.output.renderOutput(dataTable, element);\n",
              "        const docLink = document.createElement('div');\n",
              "        docLink.innerHTML = docLinkHtml;\n",
              "        element.appendChild(docLink);\n",
              "      }\n",
              "    </script>\n",
              "  </div>\n",
              "\n",
              "\n",
              "<div id=\"df-2b534800-e0e7-45ad-9f72-79f3b25aa647\">\n",
              "  <button class=\"colab-df-quickchart\" onclick=\"quickchart('df-2b534800-e0e7-45ad-9f72-79f3b25aa647')\"\n",
              "            title=\"Suggest charts\"\n",
              "            style=\"display:none;\">\n",
              "\n",
              "<svg xmlns=\"http://www.w3.org/2000/svg\" height=\"24px\"viewBox=\"0 0 24 24\"\n",
              "     width=\"24px\">\n",
              "    <g>\n",
              "        <path d=\"M19 3H5c-1.1 0-2 .9-2 2v14c0 1.1.9 2 2 2h14c1.1 0 2-.9 2-2V5c0-1.1-.9-2-2-2zM9 17H7v-7h2v7zm4 0h-2V7h2v10zm4 0h-2v-4h2v4z\"/>\n",
              "    </g>\n",
              "</svg>\n",
              "  </button>\n",
              "\n",
              "<style>\n",
              "  .colab-df-quickchart {\n",
              "      --bg-color: #E8F0FE;\n",
              "      --fill-color: #1967D2;\n",
              "      --hover-bg-color: #E2EBFA;\n",
              "      --hover-fill-color: #174EA6;\n",
              "      --disabled-fill-color: #AAA;\n",
              "      --disabled-bg-color: #DDD;\n",
              "  }\n",
              "\n",
              "  [theme=dark] .colab-df-quickchart {\n",
              "      --bg-color: #3B4455;\n",
              "      --fill-color: #D2E3FC;\n",
              "      --hover-bg-color: #434B5C;\n",
              "      --hover-fill-color: #FFFFFF;\n",
              "      --disabled-bg-color: #3B4455;\n",
              "      --disabled-fill-color: #666;\n",
              "  }\n",
              "\n",
              "  .colab-df-quickchart {\n",
              "    background-color: var(--bg-color);\n",
              "    border: none;\n",
              "    border-radius: 50%;\n",
              "    cursor: pointer;\n",
              "    display: none;\n",
              "    fill: var(--fill-color);\n",
              "    height: 32px;\n",
              "    padding: 0;\n",
              "    width: 32px;\n",
              "  }\n",
              "\n",
              "  .colab-df-quickchart:hover {\n",
              "    background-color: var(--hover-bg-color);\n",
              "    box-shadow: 0 1px 2px rgba(60, 64, 67, 0.3), 0 1px 3px 1px rgba(60, 64, 67, 0.15);\n",
              "    fill: var(--button-hover-fill-color);\n",
              "  }\n",
              "\n",
              "  .colab-df-quickchart-complete:disabled,\n",
              "  .colab-df-quickchart-complete:disabled:hover {\n",
              "    background-color: var(--disabled-bg-color);\n",
              "    fill: var(--disabled-fill-color);\n",
              "    box-shadow: none;\n",
              "  }\n",
              "\n",
              "  .colab-df-spinner {\n",
              "    border: 2px solid var(--fill-color);\n",
              "    border-color: transparent;\n",
              "    border-bottom-color: var(--fill-color);\n",
              "    animation:\n",
              "      spin 1s steps(1) infinite;\n",
              "  }\n",
              "\n",
              "  @keyframes spin {\n",
              "    0% {\n",
              "      border-color: transparent;\n",
              "      border-bottom-color: var(--fill-color);\n",
              "      border-left-color: var(--fill-color);\n",
              "    }\n",
              "    20% {\n",
              "      border-color: transparent;\n",
              "      border-left-color: var(--fill-color);\n",
              "      border-top-color: var(--fill-color);\n",
              "    }\n",
              "    30% {\n",
              "      border-color: transparent;\n",
              "      border-left-color: var(--fill-color);\n",
              "      border-top-color: var(--fill-color);\n",
              "      border-right-color: var(--fill-color);\n",
              "    }\n",
              "    40% {\n",
              "      border-color: transparent;\n",
              "      border-right-color: var(--fill-color);\n",
              "      border-top-color: var(--fill-color);\n",
              "    }\n",
              "    60% {\n",
              "      border-color: transparent;\n",
              "      border-right-color: var(--fill-color);\n",
              "    }\n",
              "    80% {\n",
              "      border-color: transparent;\n",
              "      border-right-color: var(--fill-color);\n",
              "      border-bottom-color: var(--fill-color);\n",
              "    }\n",
              "    90% {\n",
              "      border-color: transparent;\n",
              "      border-bottom-color: var(--fill-color);\n",
              "    }\n",
              "  }\n",
              "</style>\n",
              "\n",
              "  <script>\n",
              "    async function quickchart(key) {\n",
              "      const quickchartButtonEl =\n",
              "        document.querySelector('#' + key + ' button');\n",
              "      quickchartButtonEl.disabled = true;  // To prevent multiple clicks.\n",
              "      quickchartButtonEl.classList.add('colab-df-spinner');\n",
              "      try {\n",
              "        const charts = await google.colab.kernel.invokeFunction(\n",
              "            'suggestCharts', [key], {});\n",
              "      } catch (error) {\n",
              "        console.error('Error during call to suggestCharts:', error);\n",
              "      }\n",
              "      quickchartButtonEl.classList.remove('colab-df-spinner');\n",
              "      quickchartButtonEl.classList.add('colab-df-quickchart-complete');\n",
              "    }\n",
              "    (() => {\n",
              "      let quickchartButtonEl =\n",
              "        document.querySelector('#df-2b534800-e0e7-45ad-9f72-79f3b25aa647 button');\n",
              "      quickchartButtonEl.style.display =\n",
              "        google.colab.kernel.accessAllowed ? 'block' : 'none';\n",
              "    })();\n",
              "  </script>\n",
              "</div>\n",
              "\n",
              "    </div>\n",
              "  </div>\n"
            ],
            "application/vnd.google.colaboratory.intrinsic+json": {
              "type": "dataframe",
              "repr_error": "0"
            }
          },
          "metadata": {},
          "execution_count": 10
        }
      ]
    },
    {
      "cell_type": "code",
      "source": [
        "# Set the Date column as the index\n",
        "df.set_index('Date', inplace=True)"
      ],
      "metadata": {
        "id": "Ff4UoXbNDRri"
      },
      "execution_count": 11,
      "outputs": []
    },
    {
      "cell_type": "code",
      "source": [
        "df.head()"
      ],
      "metadata": {
        "colab": {
          "base_uri": "https://localhost:8080/",
          "height": 237
        },
        "id": "9TUvaXClDZ9o",
        "outputId": "4014deb5-bf60-429a-8bd2-f8d24eb3a6bb"
      },
      "execution_count": 12,
      "outputs": [
        {
          "output_type": "execute_result",
          "data": {
            "text/plain": [
              "            Hour     Date/hour start  Solar electricity generation (kWh)  \\\n",
              "Date                                                                       \n",
              "2020-01-01     0 2020-01-01 00:00:00                                 0.0   \n",
              "2020-01-01     1 2020-01-01 01:00:00                                 0.0   \n",
              "2020-01-01     2 2020-01-01 02:00:00                                 0.0   \n",
              "2020-01-01     3 2020-01-01 03:00:00                                 0.0   \n",
              "2020-01-01     4 2020-01-01 04:00:00                                 0.0   \n",
              "\n",
              "            Electricity usage (kWh)  \n",
              "Date                                 \n",
              "2020-01-01                 1.509849  \n",
              "2020-01-01                 1.411859  \n",
              "2020-01-01                 1.023898  \n",
              "2020-01-01                 0.642000  \n",
              "2020-01-01                 0.960000  "
            ],
            "text/html": [
              "\n",
              "  <div id=\"df-187f2485-ed2b-4b27-a6ee-581823bed376\" class=\"colab-df-container\">\n",
              "    <div>\n",
              "<style scoped>\n",
              "    .dataframe tbody tr th:only-of-type {\n",
              "        vertical-align: middle;\n",
              "    }\n",
              "\n",
              "    .dataframe tbody tr th {\n",
              "        vertical-align: top;\n",
              "    }\n",
              "\n",
              "    .dataframe thead th {\n",
              "        text-align: right;\n",
              "    }\n",
              "</style>\n",
              "<table border=\"1\" class=\"dataframe\">\n",
              "  <thead>\n",
              "    <tr style=\"text-align: right;\">\n",
              "      <th></th>\n",
              "      <th>Hour</th>\n",
              "      <th>Date/hour start</th>\n",
              "      <th>Solar electricity generation (kWh)</th>\n",
              "      <th>Electricity usage (kWh)</th>\n",
              "    </tr>\n",
              "    <tr>\n",
              "      <th>Date</th>\n",
              "      <th></th>\n",
              "      <th></th>\n",
              "      <th></th>\n",
              "      <th></th>\n",
              "    </tr>\n",
              "  </thead>\n",
              "  <tbody>\n",
              "    <tr>\n",
              "      <th>2020-01-01</th>\n",
              "      <td>0</td>\n",
              "      <td>2020-01-01 00:00:00</td>\n",
              "      <td>0.0</td>\n",
              "      <td>1.509849</td>\n",
              "    </tr>\n",
              "    <tr>\n",
              "      <th>2020-01-01</th>\n",
              "      <td>1</td>\n",
              "      <td>2020-01-01 01:00:00</td>\n",
              "      <td>0.0</td>\n",
              "      <td>1.411859</td>\n",
              "    </tr>\n",
              "    <tr>\n",
              "      <th>2020-01-01</th>\n",
              "      <td>2</td>\n",
              "      <td>2020-01-01 02:00:00</td>\n",
              "      <td>0.0</td>\n",
              "      <td>1.023898</td>\n",
              "    </tr>\n",
              "    <tr>\n",
              "      <th>2020-01-01</th>\n",
              "      <td>3</td>\n",
              "      <td>2020-01-01 03:00:00</td>\n",
              "      <td>0.0</td>\n",
              "      <td>0.642000</td>\n",
              "    </tr>\n",
              "    <tr>\n",
              "      <th>2020-01-01</th>\n",
              "      <td>4</td>\n",
              "      <td>2020-01-01 04:00:00</td>\n",
              "      <td>0.0</td>\n",
              "      <td>0.960000</td>\n",
              "    </tr>\n",
              "  </tbody>\n",
              "</table>\n",
              "</div>\n",
              "    <div class=\"colab-df-buttons\">\n",
              "\n",
              "  <div class=\"colab-df-container\">\n",
              "    <button class=\"colab-df-convert\" onclick=\"convertToInteractive('df-187f2485-ed2b-4b27-a6ee-581823bed376')\"\n",
              "            title=\"Convert this dataframe to an interactive table.\"\n",
              "            style=\"display:none;\">\n",
              "\n",
              "  <svg xmlns=\"http://www.w3.org/2000/svg\" height=\"24px\" viewBox=\"0 -960 960 960\">\n",
              "    <path d=\"M120-120v-720h720v720H120Zm60-500h600v-160H180v160Zm220 220h160v-160H400v160Zm0 220h160v-160H400v160ZM180-400h160v-160H180v160Zm440 0h160v-160H620v160ZM180-180h160v-160H180v160Zm440 0h160v-160H620v160Z\"/>\n",
              "  </svg>\n",
              "    </button>\n",
              "\n",
              "  <style>\n",
              "    .colab-df-container {\n",
              "      display:flex;\n",
              "      gap: 12px;\n",
              "    }\n",
              "\n",
              "    .colab-df-convert {\n",
              "      background-color: #E8F0FE;\n",
              "      border: none;\n",
              "      border-radius: 50%;\n",
              "      cursor: pointer;\n",
              "      display: none;\n",
              "      fill: #1967D2;\n",
              "      height: 32px;\n",
              "      padding: 0 0 0 0;\n",
              "      width: 32px;\n",
              "    }\n",
              "\n",
              "    .colab-df-convert:hover {\n",
              "      background-color: #E2EBFA;\n",
              "      box-shadow: 0px 1px 2px rgba(60, 64, 67, 0.3), 0px 1px 3px 1px rgba(60, 64, 67, 0.15);\n",
              "      fill: #174EA6;\n",
              "    }\n",
              "\n",
              "    .colab-df-buttons div {\n",
              "      margin-bottom: 4px;\n",
              "    }\n",
              "\n",
              "    [theme=dark] .colab-df-convert {\n",
              "      background-color: #3B4455;\n",
              "      fill: #D2E3FC;\n",
              "    }\n",
              "\n",
              "    [theme=dark] .colab-df-convert:hover {\n",
              "      background-color: #434B5C;\n",
              "      box-shadow: 0px 1px 3px 1px rgba(0, 0, 0, 0.15);\n",
              "      filter: drop-shadow(0px 1px 2px rgba(0, 0, 0, 0.3));\n",
              "      fill: #FFFFFF;\n",
              "    }\n",
              "  </style>\n",
              "\n",
              "    <script>\n",
              "      const buttonEl =\n",
              "        document.querySelector('#df-187f2485-ed2b-4b27-a6ee-581823bed376 button.colab-df-convert');\n",
              "      buttonEl.style.display =\n",
              "        google.colab.kernel.accessAllowed ? 'block' : 'none';\n",
              "\n",
              "      async function convertToInteractive(key) {\n",
              "        const element = document.querySelector('#df-187f2485-ed2b-4b27-a6ee-581823bed376');\n",
              "        const dataTable =\n",
              "          await google.colab.kernel.invokeFunction('convertToInteractive',\n",
              "                                                    [key], {});\n",
              "        if (!dataTable) return;\n",
              "\n",
              "        const docLinkHtml = 'Like what you see? Visit the ' +\n",
              "          '<a target=\"_blank\" href=https://colab.research.google.com/notebooks/data_table.ipynb>data table notebook</a>'\n",
              "          + ' to learn more about interactive tables.';\n",
              "        element.innerHTML = '';\n",
              "        dataTable['output_type'] = 'display_data';\n",
              "        await google.colab.output.renderOutput(dataTable, element);\n",
              "        const docLink = document.createElement('div');\n",
              "        docLink.innerHTML = docLinkHtml;\n",
              "        element.appendChild(docLink);\n",
              "      }\n",
              "    </script>\n",
              "  </div>\n",
              "\n",
              "\n",
              "<div id=\"df-c29ece5c-a793-43b7-9928-dd9a1e42cf7a\">\n",
              "  <button class=\"colab-df-quickchart\" onclick=\"quickchart('df-c29ece5c-a793-43b7-9928-dd9a1e42cf7a')\"\n",
              "            title=\"Suggest charts\"\n",
              "            style=\"display:none;\">\n",
              "\n",
              "<svg xmlns=\"http://www.w3.org/2000/svg\" height=\"24px\"viewBox=\"0 0 24 24\"\n",
              "     width=\"24px\">\n",
              "    <g>\n",
              "        <path d=\"M19 3H5c-1.1 0-2 .9-2 2v14c0 1.1.9 2 2 2h14c1.1 0 2-.9 2-2V5c0-1.1-.9-2-2-2zM9 17H7v-7h2v7zm4 0h-2V7h2v10zm4 0h-2v-4h2v4z\"/>\n",
              "    </g>\n",
              "</svg>\n",
              "  </button>\n",
              "\n",
              "<style>\n",
              "  .colab-df-quickchart {\n",
              "      --bg-color: #E8F0FE;\n",
              "      --fill-color: #1967D2;\n",
              "      --hover-bg-color: #E2EBFA;\n",
              "      --hover-fill-color: #174EA6;\n",
              "      --disabled-fill-color: #AAA;\n",
              "      --disabled-bg-color: #DDD;\n",
              "  }\n",
              "\n",
              "  [theme=dark] .colab-df-quickchart {\n",
              "      --bg-color: #3B4455;\n",
              "      --fill-color: #D2E3FC;\n",
              "      --hover-bg-color: #434B5C;\n",
              "      --hover-fill-color: #FFFFFF;\n",
              "      --disabled-bg-color: #3B4455;\n",
              "      --disabled-fill-color: #666;\n",
              "  }\n",
              "\n",
              "  .colab-df-quickchart {\n",
              "    background-color: var(--bg-color);\n",
              "    border: none;\n",
              "    border-radius: 50%;\n",
              "    cursor: pointer;\n",
              "    display: none;\n",
              "    fill: var(--fill-color);\n",
              "    height: 32px;\n",
              "    padding: 0;\n",
              "    width: 32px;\n",
              "  }\n",
              "\n",
              "  .colab-df-quickchart:hover {\n",
              "    background-color: var(--hover-bg-color);\n",
              "    box-shadow: 0 1px 2px rgba(60, 64, 67, 0.3), 0 1px 3px 1px rgba(60, 64, 67, 0.15);\n",
              "    fill: var(--button-hover-fill-color);\n",
              "  }\n",
              "\n",
              "  .colab-df-quickchart-complete:disabled,\n",
              "  .colab-df-quickchart-complete:disabled:hover {\n",
              "    background-color: var(--disabled-bg-color);\n",
              "    fill: var(--disabled-fill-color);\n",
              "    box-shadow: none;\n",
              "  }\n",
              "\n",
              "  .colab-df-spinner {\n",
              "    border: 2px solid var(--fill-color);\n",
              "    border-color: transparent;\n",
              "    border-bottom-color: var(--fill-color);\n",
              "    animation:\n",
              "      spin 1s steps(1) infinite;\n",
              "  }\n",
              "\n",
              "  @keyframes spin {\n",
              "    0% {\n",
              "      border-color: transparent;\n",
              "      border-bottom-color: var(--fill-color);\n",
              "      border-left-color: var(--fill-color);\n",
              "    }\n",
              "    20% {\n",
              "      border-color: transparent;\n",
              "      border-left-color: var(--fill-color);\n",
              "      border-top-color: var(--fill-color);\n",
              "    }\n",
              "    30% {\n",
              "      border-color: transparent;\n",
              "      border-left-color: var(--fill-color);\n",
              "      border-top-color: var(--fill-color);\n",
              "      border-right-color: var(--fill-color);\n",
              "    }\n",
              "    40% {\n",
              "      border-color: transparent;\n",
              "      border-right-color: var(--fill-color);\n",
              "      border-top-color: var(--fill-color);\n",
              "    }\n",
              "    60% {\n",
              "      border-color: transparent;\n",
              "      border-right-color: var(--fill-color);\n",
              "    }\n",
              "    80% {\n",
              "      border-color: transparent;\n",
              "      border-right-color: var(--fill-color);\n",
              "      border-bottom-color: var(--fill-color);\n",
              "    }\n",
              "    90% {\n",
              "      border-color: transparent;\n",
              "      border-bottom-color: var(--fill-color);\n",
              "    }\n",
              "  }\n",
              "</style>\n",
              "\n",
              "  <script>\n",
              "    async function quickchart(key) {\n",
              "      const quickchartButtonEl =\n",
              "        document.querySelector('#' + key + ' button');\n",
              "      quickchartButtonEl.disabled = true;  // To prevent multiple clicks.\n",
              "      quickchartButtonEl.classList.add('colab-df-spinner');\n",
              "      try {\n",
              "        const charts = await google.colab.kernel.invokeFunction(\n",
              "            'suggestCharts', [key], {});\n",
              "      } catch (error) {\n",
              "        console.error('Error during call to suggestCharts:', error);\n",
              "      }\n",
              "      quickchartButtonEl.classList.remove('colab-df-spinner');\n",
              "      quickchartButtonEl.classList.add('colab-df-quickchart-complete');\n",
              "    }\n",
              "    (() => {\n",
              "      let quickchartButtonEl =\n",
              "        document.querySelector('#df-c29ece5c-a793-43b7-9928-dd9a1e42cf7a button');\n",
              "      quickchartButtonEl.style.display =\n",
              "        google.colab.kernel.accessAllowed ? 'block' : 'none';\n",
              "    })();\n",
              "  </script>\n",
              "</div>\n",
              "\n",
              "    </div>\n",
              "  </div>\n"
            ],
            "application/vnd.google.colaboratory.intrinsic+json": {
              "type": "dataframe",
              "variable_name": "df",
              "summary": "{\n  \"name\": \"df\",\n  \"rows\": 8760,\n  \"fields\": [\n    {\n      \"column\": \"Date\",\n      \"properties\": {\n        \"dtype\": \"date\",\n        \"min\": \"2020-01-01\",\n        \"max\": \"2020-12-31\",\n        \"num_unique_values\": 365,\n        \"samples\": [\n          \"2020-07-13\",\n          \"2020-02-03\",\n          \"2020-01-16\"\n        ],\n        \"semantic_type\": \"\",\n        \"description\": \"\"\n      }\n    },\n    {\n      \"column\": \"Hour\",\n      \"properties\": {\n        \"dtype\": \"int32\",\n        \"num_unique_values\": 24,\n        \"samples\": [\n          8,\n          16,\n          0\n        ],\n        \"semantic_type\": \"\",\n        \"description\": \"\"\n      }\n    },\n    {\n      \"column\": \"Date/hour start\",\n      \"properties\": {\n        \"dtype\": \"date\",\n        \"min\": \"2020-01-01 00:00:00\",\n        \"max\": \"2020-12-31 23:00:00\",\n        \"num_unique_values\": 8760,\n        \"samples\": [\n          \"2020-09-10 08:00:00\",\n          \"2020-08-20 12:00:00\",\n          \"2020-09-07 14:00:00\"\n        ],\n        \"semantic_type\": \"\",\n        \"description\": \"\"\n      }\n    },\n    {\n      \"column\": \"Solar electricity generation (kWh)\",\n      \"properties\": {\n        \"dtype\": \"number\",\n        \"std\": 2.0260983113277313,\n        \"min\": 0.0,\n        \"max\": 13.05,\n        \"num_unique_values\": 1774,\n        \"samples\": [\n          0.8999999999999999,\n          4.151999999999999,\n          5.2170000000000005\n        ],\n        \"semantic_type\": \"\",\n        \"description\": \"\"\n      }\n    },\n    {\n      \"column\": \"Electricity usage (kWh)\",\n      \"properties\": {\n        \"dtype\": \"number\",\n        \"std\": 491.4798061379438,\n        \"min\": -12.624,\n        \"max\": 46000.0,\n        \"num_unique_values\": 2761,\n        \"samples\": [\n          0.7619237999999999,\n          1.2358764,\n          0.6666000000000002\n        ],\n        \"semantic_type\": \"\",\n        \"description\": \"\"\n      }\n    }\n  ]\n}"
            }
          },
          "metadata": {},
          "execution_count": 12
        }
      ]
    },
    {
      "cell_type": "code",
      "source": [],
      "metadata": {
        "id": "tqqc37-7F0PD"
      },
      "execution_count": 12,
      "outputs": []
    },
    {
      "cell_type": "code",
      "source": [
        "# Extract hour from datetime\n",
        "df['Hour'] = df['Date/hour start'].dt.hour\n"
      ],
      "metadata": {
        "id": "8Lf1kDJ1GNva"
      },
      "execution_count": 13,
      "outputs": []
    },
    {
      "cell_type": "code",
      "source": [
        "#calculating the average solar gen and electricity usage for each hour\n",
        "avg_solar = df.groupby('Hour')['Solar electricity generation (kWh)'].mean()\n",
        "avg_electricity = df.groupby('Hour')['Electricity usage (kWh)'].mean()"
      ],
      "metadata": {
        "id": "Ogf7vdYGGcAw"
      },
      "execution_count": 14,
      "outputs": []
    },
    {
      "cell_type": "code",
      "source": [
        "# Calculate average solar electricity generation and electricity usage for each hour\n",
        "hourly_avg = df.groupby('Hour').mean()"
      ],
      "metadata": {
        "id": "j2fA-pLxJPlB"
      },
      "execution_count": 15,
      "outputs": []
    },
    {
      "cell_type": "code",
      "source": [
        "# Plotting\n",
        "plt.figure(figsize=(12, 6))\n",
        "\n",
        "plt.plot(hourly_avg.index, hourly_avg['Solar electricity generation (kWh)'], label='Solar Electricity Generation', marker='o')\n",
        "plt.plot(hourly_avg.index, hourly_avg['Electricity usage (kWh)'], label='Electricity Usage', marker='o')\n",
        "\n",
        "plt.title('Average Solar Electricity Generation and Electricity Usage by Hour')\n",
        "plt.xlabel('Hour')\n",
        "plt.ylabel('Average Electricity (kWh)')\n",
        "plt.xticks(range(24))  # Set x-axis ticks to represent each hour\n",
        "plt.grid(True)\n",
        "plt.legend()\n",
        "plt.show()"
      ],
      "metadata": {
        "colab": {
          "base_uri": "https://localhost:8080/",
          "height": 564
        },
        "id": "43C365L-JpMI",
        "outputId": "9d98631d-613a-4813-9afd-64d2368986a6"
      },
      "execution_count": 16,
      "outputs": [
        {
          "output_type": "display_data",
          "data": {
            "text/plain": [
              "<Figure size 1200x600 with 1 Axes>"
            ],
            "image/png": "[encoded data removed]"
          },
          "metadata": {}
        }
      ]
    },
    {
      "cell_type": "code",
      "source": [
        "# Calculating the amount of electricity bought from the electricity provider\n",
        "df['Electricity bought (kWh)'] = df['Electricity usage (kWh)'] - df['Solar electricity generation (kWh)']\n",
        "df['Electricity bought (kWh)'] = df['Electricity bought (kWh)'].apply(lambda x: max(0, x))  # setting negative values to zero\n",
        "\n",
        "# show\n",
        "print(df[['Date/hour start', 'Electricity bought (kWh)']])\n"
      ],
      "metadata": {
        "colab": {
          "base_uri": "https://localhost:8080/"
        },
        "id": "xt3UuliLJpTV",
        "outputId": "52746a13-82f9-4fca-b4d3-e4d8bd92da11"
      },
      "execution_count": 17,
      "outputs": [
        {
          "output_type": "stream",
          "name": "stdout",
          "text": [
            "               Date/hour start  Electricity bought (kWh)\n",
            "Date                                                    \n",
            "2020-01-01 2020-01-01 00:00:00                  1.509849\n",
            "2020-01-01 2020-01-01 01:00:00                  1.411859\n",
            "2020-01-01 2020-01-01 02:00:00                  1.023898\n",
            "2020-01-01 2020-01-01 03:00:00                  0.642000\n",
            "2020-01-01 2020-01-01 04:00:00                  0.960000\n",
            "...                        ...                       ...\n",
            "2020-12-31 2020-12-31 19:00:00                  4.383600\n",
            "2020-12-31 2020-12-31 20:00:00                  4.557600\n",
            "2020-12-31 2020-12-31 21:00:00                  2.022000\n",
            "2020-12-31 2020-12-31 22:00:00                  1.653000\n",
            "2020-12-31 2020-12-31 23:00:00                  0.805919\n",
            "\n",
            "[8760 rows x 2 columns]\n"
          ]
        }
      ]
    },
    {
      "cell_type": "code",
      "source": [
        "\n",
        "#The excess solar electricity generated over electricity used for each hour\n",
        "df['Excess Solar Electricity (kWh)'] = df['Solar electricity generation (kWh)'] - df['Electricity usage (kWh)']\n",
        "\n",
        "# Set negative values (where solar generation is less than usage) to zero\n",
        "df['Excess Solar Electricity (kWh)'] = df['Excess Solar Electricity (kWh)'].apply(lambda x: max(0, x))  # setting negative values to zero\n",
        "\n",
        "#show\n",
        "print(df[['Date/hour start', 'Excess Solar Electricity (kWh)']])\n"
      ],
      "metadata": {
        "colab": {
          "base_uri": "https://localhost:8080/"
        },
        "id": "bSHfZolrL2zc",
        "outputId": "bc2b4510-50b7-45aa-f1a0-5f71c1ab9eef"
      },
      "execution_count": 18,
      "outputs": [
        {
          "output_type": "stream",
          "name": "stdout",
          "text": [
            "               Date/hour start  Excess Solar Electricity (kWh)\n",
            "Date                                                          \n",
            "2020-01-01 2020-01-01 00:00:00                             0.0\n",
            "2020-01-01 2020-01-01 01:00:00                             0.0\n",
            "2020-01-01 2020-01-01 02:00:00                             0.0\n",
            "2020-01-01 2020-01-01 03:00:00                             0.0\n",
            "2020-01-01 2020-01-01 04:00:00                             0.0\n",
            "...                        ...                             ...\n",
            "2020-12-31 2020-12-31 19:00:00                             0.0\n",
            "2020-12-31 2020-12-31 20:00:00                             0.0\n",
            "2020-12-31 2020-12-31 21:00:00                             0.0\n",
            "2020-12-31 2020-12-31 22:00:00                             0.0\n",
            "2020-12-31 2020-12-31 23:00:00                             0.0\n",
            "\n",
            "[8760 rows x 2 columns]\n"
          ]
        }
      ]
    },
    {
      "cell_type": "code",
      "source": [
        "# Initialize battery charge level column\n",
        "df['Battery Charge Level (kWh)'] = 0\n",
        "\n",
        "# Iterating over rows to calculate cumulative battery charge level\n",
        "max_battery_capacity = 12.5  # kWh\n",
        "for i in range(1, len(df)):\n",
        "    excess_solar = df.iloc[i]['Excess Solar Electricity (kWh)']\n",
        "    prev_charge = df.iloc[i-1]['Battery Charge Level (kWh)']\n",
        "    charge_level = min(prev_charge + excess_solar, max_battery_capacity)\n",
        "    df.at[df.index[i], 'Battery Charge Level (kWh)'] = charge_level"
      ],
      "metadata": {
        "id": "K_o-0dwOMhPC"
      },
      "execution_count": 19,
      "outputs": []
    },
    {
      "cell_type": "code",
      "source": [
        "#the amount of electricity that would have been bought from the provider assuming the battery is installed\n",
        "df['Electricity bought with battery (kWh)'] = df['Electricity usage (kWh)'] - df['Excess Solar Electricity (kWh)']\n",
        "\n",
        "# Set negative values (where excess solar electricity exceeds usage) to zero\n",
        "df['Electricity bought with battery (kWh)'] = df['Electricity bought with battery (kWh)'].apply(lambda x: max(0, x))  # setting negative values to zero\n",
        "\n",
        "# Display DataFrame\n",
        "print(df[['Date/hour start', 'Electricity bought with battery (kWh)']])\n"
      ],
      "metadata": {
        "colab": {
          "base_uri": "https://localhost:8080/"
        },
        "id": "iNOyQAo1Ospy",
        "outputId": "09d1fc79-445c-4bd3-92e6-7c44d2bfe3a7"
      },
      "execution_count": 20,
      "outputs": [
        {
          "output_type": "stream",
          "name": "stdout",
          "text": [
            "               Date/hour start  Electricity bought with battery (kWh)\n",
            "Date                                                                 \n",
            "2020-01-01 2020-01-01 00:00:00                               1.509849\n",
            "2020-01-01 2020-01-01 01:00:00                               1.411859\n",
            "2020-01-01 2020-01-01 02:00:00                               1.023898\n",
            "2020-01-01 2020-01-01 03:00:00                               0.642000\n",
            "2020-01-01 2020-01-01 04:00:00                               0.960000\n",
            "...                        ...                                    ...\n",
            "2020-12-31 2020-12-31 19:00:00                               4.395600\n",
            "2020-12-31 2020-12-31 20:00:00                               4.560600\n",
            "2020-12-31 2020-12-31 21:00:00                               2.022000\n",
            "2020-12-31 2020-12-31 22:00:00                               1.668000\n",
            "2020-12-31 2020-12-31 23:00:00                               0.805919\n",
            "\n",
            "[8760 rows x 2 columns]\n"
          ]
        }
      ]
    },
    {
      "cell_type": "code",
      "source": [
        "# savings in electricity costs\n",
        "electricity_price = 0.17  #  per kWh\n",
        "df['Savings with Battery '] = df['Electricity bought with battery (kWh)'] * electricity_price\n",
        "print(df['Savings with Battery '])"
      ],
      "metadata": {
        "colab": {
          "base_uri": "https://localhost:8080/"
        },
        "id": "URm4bMM-a3vL",
        "outputId": "d26dbbd2-3790-48c1-f377-ef466684c2ee"
      },
      "execution_count": 21,
      "outputs": [
        {
          "output_type": "stream",
          "name": "stdout",
          "text": [
            "Date\n",
            "2020-01-01    0.256674\n",
            "2020-01-01    0.240016\n",
            "2020-01-01    0.174063\n",
            "2020-01-01    0.109140\n",
            "2020-01-01    0.163200\n",
            "                ...   \n",
            "2020-12-31    0.747252\n",
            "2020-12-31    0.775302\n",
            "2020-12-31    0.343740\n",
            "2020-12-31    0.283560\n",
            "2020-12-31    0.137006\n",
            "Name: Savings with Battery , Length: 8760, dtype: float64\n"
          ]
        }
      ]
    },
    {
      "cell_type": "code",
      "source": [
        "# Extract month from the date column\n",
        "df['month'] = pd.to_datetime(df['Date/hour start']).dt.month"
      ],
      "metadata": {
        "id": "Dw67aHsKd047"
      },
      "execution_count": 22,
      "outputs": []
    },
    {
      "cell_type": "code",
      "source": [
        "# Aggregate data by month\n",
        "monthly_data = df.groupby('month').agg({\n",
        "    'Solar electricity generation (kWh)': 'sum',\n",
        "    'Electricity usage (kWh)': 'sum',\n",
        "    'Electricity bought (kWh)': 'sum',\n",
        "    'Electricity bought with battery (kWh)': 'sum'\n",
        "}).reset_index()\n",
        "\n",
        "# Plot using a bar chart\n",
        "months = ['Jan', 'Feb', 'Mar', 'Apr', 'May', 'June', 'July', 'Aug', 'Sep', 'Oct', 'Nov', 'Dec']\n",
        "\n",
        "plt.figure(figsize=(10, 6))\n",
        "\n",
        "# Width of each bar\n",
        "bar_width = 0.2\n",
        "\n",
        "# Position of each bar on x-axis\n",
        "x = range(len(months))\n",
        "\n",
        "plt.bar(x, monthly_data['Solar electricity generation (kWh)'], width=bar_width, label='Solar Generation')\n",
        "plt.bar([i + bar_width for i in x], monthly_data['Electricity usage (kWh)'], width=bar_width, label='Electricity Usage', alpha=0.7)\n",
        "plt.bar([i + 2 * bar_width for i in x], monthly_data['Electricity bought (kWh)'], width=bar_width, label='Electricity Purchased (No Battery)', alpha=0.5)\n",
        "plt.bar([i + 3 * bar_width for i in x], monthly_data['Electricity bought with battery (kWh)'], width=bar_width, label='Electricity Purchased (With Battery)', alpha=0.3)\n",
        "\n",
        "plt.xlabel('Month')\n",
        "plt.ylabel('kWh')\n",
        "plt.title('Monthly Energy Metrics')\n",
        "plt.xticks([i + 1.5 * bar_width for i in x], months)  # Adjust x-axis tick positions\n",
        "plt.legend()\n",
        "plt.tight_layout()\n",
        "plt.show()\n"
      ],
      "metadata": {
        "colab": {
          "base_uri": "https://localhost:8080/",
          "height": 607
        },
        "id": "sJvHap7Ig1jR",
        "outputId": "954f52fa-241b-43b1-a3f9-8afe13f31a3c"
      },
      "execution_count": 23,
      "outputs": [
        {
          "output_type": "display_data",
          "data": {
            "text/plain": [
              "<Figure size 1000x600 with 1 Axes>"
            ],
            "image/png": "[encoded data removed]"
          },
          "metadata": {}
        }
      ]
    },
    {
      "cell_type": "code",
      "source": [
        "# Constants\n",
        "battery_cost = 7000\n",
        "battery_capacity = 12.5  # kWh\n",
        "electricity_price_2022 = 0.17  # per kWh\n",
        "electricity_price_inflation_gov = 0.04\n",
        "electricity_price_inflation_estimated = 0.0425\n",
        "discount_rate = 0.06"
      ],
      "metadata": {
        "id": "VnFYTMJMjY4d"
      },
      "execution_count": 24,
      "outputs": []
    },
    {
      "cell_type": "code",
      "source": [
        "# Project forward for 20 years from 2022\n",
        "years = range(2022, 2042)\n",
        "annual_savings_gov = []\n",
        "annual_savings_estimated = []\n",
        "\n",
        "for year in years:\n",
        "    electricity_price_gov = electricity_price_2022 * ((1 + electricity_price_inflation_gov) ** (year - 2022))\n",
        "    electricity_price_estimated = electricity_price_2022 * ((1 + electricity_price_inflation_estimated) ** (year - 2022))\n",
        "\n",
        "    savings_gov = df['Excess Solar Electricity (kWh)'].sum() * electricity_price_gov\n",
        "    savings_estimated = df['Excess Solar Electricity (kWh)'].sum() * electricity_price_estimated\n",
        "\n",
        "    annual_savings_gov.append(savings_gov)\n",
        "    annual_savings_estimated.append(savings_estimated)\n"
      ],
      "metadata": {
        "id": "ALvwbUYOlqiv"
      },
      "execution_count": 25,
      "outputs": []
    },
    {
      "cell_type": "code",
      "source": [
        "!pip install numpy_financial"
      ],
      "metadata": {
        "colab": {
          "base_uri": "https://localhost:8080/"
        },
        "id": "1fMWsaP2nnL_",
        "outputId": "4111e512-0d9d-4bdf-a67f-34efd8fc4a95"
      },
      "execution_count": 26,
      "outputs": [
        {
          "output_type": "stream",
          "name": "stdout",
          "text": [
            "Requirement already satisfied: numpy_financial in /usr/local/lib/python3.10/dist-packages (1.0.0)\n",
            "Requirement already satisfied: numpy>=1.15 in /usr/local/lib/python3.10/dist-packages (from numpy_financial) (1.25.2)\n"
          ]
        }
      ]
    },
    {
      "cell_type": "code",
      "source": [
        "from numpy_financial import npv"
      ],
      "metadata": {
        "id": "LpxttcI4nqsy"
      },
      "execution_count": 27,
      "outputs": []
    },
    {
      "cell_type": "code",
      "source": [
        " npv_gov = npv(discount_rate, annual_savings_gov)\n",
        "npv_estimated = npv(discount_rate, annual_savings_estimated)\n",
        "\n",
        "print(\"NPV for Scenario 1 (Government's Expected Increase):\", npv_gov)\n",
        "print(\"NPV for Scenario 2 (Estimated Increase by Naomi):\", npv_estimated)"
      ],
      "metadata": {
        "colab": {
          "base_uri": "https://localhost:8080/"
        },
        "id": "OQcb0o4Bnl5l",
        "outputId": "8c850a9a-4b33-4f59-abfc-bd32819910e5"
      },
      "execution_count": 28,
      "outputs": [
        {
          "output_type": "stream",
          "name": "stdout",
          "text": [
            "NPV for Scenario 1 (Government's Expected Increase): 20960.81263527219\n",
            "NPV for Scenario 2 (Estimated Increase by Naomi): 21413.937254139077\n"
          ]
        }
      ]
    },
    {
      "cell_type": "code",
      "source": [
        "from scipy.optimize import root_scalar\n",
        "\n",
        "# Define function to calculate NPV for a given discount rate and annual savings\n",
        "def calculate_npv(discount_rate, annual_savings):\n",
        "    return npv(discount_rate, annual_savings)\n",
        "\n",
        "# Define function to find IRR\n",
        "def find_irr(annual_savings, battery_cost):\n",
        "    irr_result = root_scalar(lambda r: calculate_npv(r, annual_savings) - battery_cost, bracket=[0, 1])\n",
        "    return irr_result.root\n",
        "\n",
        "\n",
        "#IRR for Scenario 1 (Government's Expected Increase)\n",
        "irr_gov = find_irr(annual_savings_gov,battery_cost)\n",
        "\n",
        "#IRR for Scenario 2 (Estimated Increase by Naomi)\n",
        "irr_estimated = find_irr(annual_savings_estimated, battery_cost)\n",
        "\n",
        "print(\"IRR for Scenario 1 (Government's Expected Increase):\", irr_gov)\n",
        "print(\"IRR for Scenario 2 (Estimated Increase by Naomi):\", irr_estimated)\n"
      ],
      "metadata": {
        "colab": {
          "base_uri": "https://localhost:8080/"
        },
        "id": "XPXDju44nxn_",
        "outputId": "a38791e2-4f59-4946-fb48-4b57f9d65a2d"
      },
      "execution_count": 29,
      "outputs": [
        {
          "output_type": "stream",
          "name": "stdout",
          "text": [
            "IRR for Scenario 1 (Government's Expected Increase): 0.2598263040677259\n",
            "IRR for Scenario 2 (Estimated Increase by Naomi): 0.2628547326832732\n"
          ]
        }
      ]
    }
  ]
}